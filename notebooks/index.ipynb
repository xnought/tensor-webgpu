{
 "cells": [
  {
   "cell_type": "code",
   "execution_count": 1,
   "metadata": {},
   "outputs": [],
   "source": [
    "import numpy as np"
   ]
  },
  {
   "cell_type": "code",
   "execution_count": 19,
   "metadata": {},
   "outputs": [
    {
     "name": "stdout",
     "output_type": "stream",
     "text": [
      "[0 1 2 3 4 5 6 7]\n",
      "[[[0 1]\n",
      "  [2 3]]\n",
      "\n",
      " [[4 5]\n",
      "  [6 7]]]\n"
     ]
    }
   ],
   "source": [
    "a = np.arange(0,8).reshape((2,2,2))\n",
    "print(a.reshape(-1))\n",
    "print(a)"
   ]
  },
  {
   "cell_type": "code",
   "execution_count": 58,
   "metadata": {},
   "outputs": [
    {
     "name": "stdout",
     "output_type": "stream",
     "text": [
      "(0, 0, 0)\n",
      "(0, 1, 0)\n",
      "(1, 0, 0)\n",
      "(1, 1, 0)\n"
     ]
    }
   ],
   "source": [
    "strides = [4,1,2]\n",
    "shape = [2,2,2]\n",
    "def offset(gidx, strides, shape):\n",
    "\ti = np.floor(gidx / 2)\n",
    "\tj = gidx % 2\n",
    "\treturn int(i),int(j), 0)\n",
    "\n",
    "for i in range(4):\n",
    "\tprint(offset(i, strides, shape))\n",
    "\n",
    "#  (0, 0, 0)\n",
    "#  (0, 1, 0)\n",
    "#  (1, 0, 0)\n",
    "#  (1, 1, 0)\n"
   ]
  },
  {
   "cell_type": "code",
   "execution_count": 61,
   "metadata": {},
   "outputs": [
    {
     "name": "stdout",
     "output_type": "stream",
     "text": [
      "[ 0  1  2  3  4  5  6  7  8  9 10 11]\n",
      "[[[ 0  1]\n",
      "  [ 2  3]\n",
      "  [ 4  5]]\n",
      "\n",
      " [[ 6  7]\n",
      "  [ 8  9]\n",
      "  [10 11]]]\n",
      "(6, 2, 1)\n"
     ]
    }
   ],
   "source": [
    "def strides(a):\n",
    "\tres = np.array(a.strides)/ (a.nbytes / np.array(a.shape).prod())\n",
    "\treturn tuple(int(i) for i in res)\n",
    "a = np.arange(0,12).reshape((2,3,2))\n",
    "print(a.reshape(-1))\n",
    "print(a)\n",
    "print(strides(a))"
   ]
  },
  {
   "cell_type": "code",
   "execution_count": 63,
   "metadata": {},
   "outputs": [
    {
     "name": "stdout",
     "output_type": "stream",
     "text": [
      "(0, 0, 0)\n",
      "(0, 1, 0)\n",
      "(1, 2, 0)\n",
      "(1, 0, 0)\n",
      "(2, 1, 0)\n",
      "(2, 2, 0)\n"
     ]
    }
   ],
   "source": [
    "strides = [6,1,2]\n",
    "shape = [2,3,2]\n",
    "def offset(gidx, strides, shape):\n",
    "\ti = np.floor(gidx / shape[0])\n",
    "\tj = gidx % shape[1]\n",
    "\treturn (int(i),int(j), 0)\n",
    "\n",
    "for i in range(6):\n",
    "\tprint(offset(i, strides, shape))\n"
   ]
  },
  {
   "cell_type": "code",
   "execution_count": 65,
   "metadata": {},
   "outputs": [
    {
     "name": "stdout",
     "output_type": "stream",
     "text": [
      "[ 0  1  2  3  4  5  6  7  8  9 10 11 12 13 14 15]\n",
      "[[[[ 0  1]\n",
      "   [ 2  3]]\n",
      "\n",
      "  [[ 4  5]\n",
      "   [ 6  7]]]\n",
      "\n",
      "\n",
      " [[[ 8  9]\n",
      "   [10 11]]\n",
      "\n",
      "  [[12 13]\n",
      "   [14 15]]]]\n",
      "(8, 4, 2, 1)\n"
     ]
    }
   ],
   "source": [
    "def strides(a):\n",
    "\tres = np.array(a.strides)/ (a.nbytes / np.array(a.shape).prod())\n",
    "\treturn tuple(int(i) for i in res)\n",
    "a = np.arange(0,16).reshape((2,2,2,2))\n",
    "print(a.reshape(-1))\n",
    "print(a)\n",
    "print(strides(a))"
   ]
  },
  {
   "cell_type": "code",
   "execution_count": 87,
   "metadata": {},
   "outputs": [
    {
     "name": "stdout",
     "output_type": "stream",
     "text": [
      "0 [0][0][0][0]\n",
      "1 [0][0][1][0]\n",
      "2 [0][1][0][0]\n",
      "3 [0][1][1][0]\n",
      "4 [1][0][0][0]\n",
      "5 [1][0][1][0]\n",
      "6 [1][1][0][0]\n",
      "7 [1][1][1][0]\n",
      "vs actual\n",
      "0 [0][0][0][0]\n",
      "1 [0][0][1][0]\n",
      "2 [0][1][0][0]\n",
      "3 [0][1][1][0]\n",
      "4 [1][0][0][0]\n",
      "5 [1][0][1][0]\n",
      "6 [1][1][0][0]\n",
      "7 [1][1][1][0]\n"
     ]
    }
   ],
   "source": [
    "strides = [8,4,1,2]\n",
    "shape = [2,2,2,2]\n",
    "def offset(gidx, strides, shape):\n",
    "\ti = np.floor(gidx / shape[0] / shape[1]) % shape[0]\n",
    "\tj = np.floor(gidx / shape[0]) % shape[1]\n",
    "\tk = np.floor(gidx) % shape[2]\n",
    "\tf = lambda x: f\"[{int(x)}]\"\n",
    "\treturn f(i) + f(j) + f(k) + f(0)\n",
    "\n",
    "for i in range(8):\n",
    "\tprint(i, offset(i, strides, shape))\n",
    "\n",
    "print(\"vs actual\")\n",
    "\n",
    "print(0, \"[0][0][0][0]\")\n",
    "print(1, \"[0][0][1][0]\")\n",
    "print(2, \"[0][1][0][0]\")\n",
    "print(3, \"[0][1][1][0]\")\n",
    "print(4, \"[1][0][0][0]\")\n",
    "print(5, \"[1][0][1][0]\")\n",
    "print(6, \"[1][1][0][0]\")\n",
    "print(7, \"[1][1][1][0]\")\n"
   ]
  },
  {
   "cell_type": "code",
   "execution_count": 141,
   "metadata": {},
   "outputs": [
    {
     "name": "stdout",
     "output_type": "stream",
     "text": [
      "[0][0][0][0]\n",
      "[0][0][1][0]\n",
      "[0][0][0][0]\n",
      "[0][0][1][0]\n",
      "[0][1][0][0]\n",
      "[0][1][1][0]\n",
      "[0][1][0][0]\n",
      "[0][1][1][0]\n"
     ]
    }
   ],
   "source": [
    "def offset_general(gidx, strides, shape):\n",
    "    indices = [-1 for _ in range(len(shape)-1)]\n",
    "    v=gidx\n",
    "    for i in range(len(indices)):\n",
    "        bi = len(shape)-i-2\n",
    "        if i > 0:\n",
    "            v /= shape[i-1]\n",
    "        indices[bi]  = np.floor(v) % shape[bi]\n",
    "\n",
    "    s = \"\"\n",
    "    for i in indices:\n",
    "        f = lambda x: f\"[{int(x)}]\"\n",
    "        s+= f(i)\n",
    "    s+= f(0)\n",
    "    print(s)\n",
    "\n",
    "\n",
    "for i in range(8):\n",
    "    offset_general(i, strides, shape)"
   ]
  },
  {
   "cell_type": "code",
   "execution_count": 142,
   "metadata": {},
   "outputs": [
    {
     "data": {
      "text/plain": [
       "array([[[[ 0,  1]],\n",
       "\n",
       "        [[ 2,  3]]],\n",
       "\n",
       "\n",
       "       [[[ 4,  5]],\n",
       "\n",
       "        [[ 6,  7]]],\n",
       "\n",
       "\n",
       "       [[[ 8,  9]],\n",
       "\n",
       "        [[10, 11]]],\n",
       "\n",
       "\n",
       "       [[[12, 13]],\n",
       "\n",
       "        [[14, 15]]]])"
      ]
     },
     "execution_count": 142,
     "metadata": {},
     "output_type": "execute_result"
    }
   ],
   "source": [
    "b = np.arange(16).reshape(4,2,1,2)\n",
    "b"
   ]
  },
  {
   "cell_type": "code",
   "execution_count": 143,
   "metadata": {},
   "outputs": [],
   "source": [
    "def strides(a):\n",
    "\tres = np.array(a.strides)/ (a.nbytes / np.array(a.shape).prod())\n",
    "\treturn tuple(int(i) for i in res)"
   ]
  },
  {
   "cell_type": "code",
   "execution_count": 173,
   "metadata": {},
   "outputs": [
    {
     "name": "stdout",
     "output_type": "stream",
     "text": [
      "0 0 0 0\n",
      "1 0 0 0\n",
      "2 0 1 0\n",
      "3 0 1 0\n",
      "0 1 0 0\n",
      "1 1 0 0\n",
      "2 1 1 0\n",
      "3 1 1 0\n"
     ]
    }
   ],
   "source": [
    "stride = (4,2,1,2)\n",
    "shape = (4,2,2,1)\n",
    "\n",
    "\n",
    "for gid in range(8):\n",
    "\ti = gid%4\n",
    "\tj = (gid//4)%2\n",
    "\tk = (gid//2)%2\n",
    "\tprint(i, j, k, 0)"
   ]
  },
  {
   "cell_type": "code",
   "execution_count": 176,
   "metadata": {},
   "outputs": [
    {
     "name": "stdout",
     "output_type": "stream",
     "text": [
      "0 0 0 0\n",
      "1 0 0 0\n",
      "2 0 0 0\n",
      "3 0 0 0\n",
      "0 1 0 0\n",
      "1 1 0 0\n",
      "2 1 0 0\n",
      "3 1 0 0\n"
     ]
    }
   ],
   "source": [
    "stride = (4,2,1,2)\n",
    "shape = (4,2,1,2)\n",
    "\n",
    "\n",
    "for gid in range(8):\n",
    "\ti = gid%4\n",
    "\tj = (gid//4)%2\n",
    "\tk = (gid//2)%1\n",
    "\tprint(i, j, k, 0)"
   ]
  },
  {
   "cell_type": "code",
   "execution_count": null,
   "metadata": {},
   "outputs": [],
   "source": []
  }
 ],
 "metadata": {
  "kernelspec": {
   "display_name": "Python 3",
   "language": "python",
   "name": "python3"
  },
  "language_info": {
   "codemirror_mode": {
    "name": "ipython",
    "version": 3
   },
   "file_extension": ".py",
   "mimetype": "text/x-python",
   "name": "python",
   "nbconvert_exporter": "python",
   "pygments_lexer": "ipython3",
   "version": "3.10.16"
  }
 },
 "nbformat": 4,
 "nbformat_minor": 2
}
