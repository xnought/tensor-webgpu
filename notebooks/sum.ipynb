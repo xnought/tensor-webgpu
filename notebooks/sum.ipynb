{
 "cells": [
  {
   "cell_type": "code",
   "execution_count": 1,
   "metadata": {},
   "outputs": [],
   "source": [
    "import numpy as np"
   ]
  },
  {
   "cell_type": "code",
   "execution_count": 46,
   "metadata": {},
   "outputs": [],
   "source": [
    "def strides(a):\n",
    "\tres = np.array(a.strides)/ (a.nbytes / np.array(a.shape).prod())\n",
    "\treturn tuple(int(i) for i in res)"
   ]
  },
  {
   "cell_type": "code",
   "execution_count": 47,
   "metadata": {},
   "outputs": [
    {
     "name": "stdout",
     "output_type": "stream",
     "text": [
      "[[[1. 2.]\n",
      "  [3. 4.]]\n",
      "\n",
      " [[5. 6.]\n",
      "  [7. 8.]]] (4, 2, 1)\n"
     ]
    }
   ],
   "source": [
    "a = np.arange(1, 9, dtype=np.float32).reshape((2,2,2))\n",
    "print(a, strides(a))"
   ]
  },
  {
   "cell_type": "code",
   "execution_count": 48,
   "metadata": {},
   "outputs": [
    {
     "name": "stdout",
     "output_type": "stream",
     "text": [
      "[[[ 6.  8.]\n",
      "  [10. 12.]]]\n",
      "(4, 2, 1)\n"
     ]
    }
   ],
   "source": [
    "print(a.sum(axis=0, keepdims=True))\n",
    "print(strides(a.sum(axis=0, keepdims=True)))"
   ]
  },
  {
   "cell_type": "code",
   "execution_count": 49,
   "metadata": {},
   "outputs": [
    {
     "name": "stdout",
     "output_type": "stream",
     "text": [
      "[[[ 4.  6.]]\n",
      "\n",
      " [[12. 14.]]]\n",
      "(2, 2, 1)\n"
     ]
    }
   ],
   "source": [
    "print(a.sum(axis=1, keepdims=True))\n",
    "print(strides(a.sum(axis=1, keepdims=True)))"
   ]
  },
  {
   "cell_type": "code",
   "execution_count": 50,
   "metadata": {},
   "outputs": [
    {
     "name": "stdout",
     "output_type": "stream",
     "text": [
      "[[[ 3.]\n",
      "  [ 7.]]\n",
      "\n",
      " [[11.]\n",
      "  [15.]]]\n",
      "(2, 1, 1)\n"
     ]
    }
   ],
   "source": [
    "print(a.sum(axis=-1, keepdims=True))\n",
    "print(strides(a.sum(axis=-1, keepdims=True)))"
   ]
  },
  {
   "cell_type": "code",
   "execution_count": 61,
   "metadata": {},
   "outputs": [
    {
     "data": {
      "text/plain": [
       "array([[[1., 3.],\n",
       "        [2., 4.]],\n",
       "\n",
       "       [[5., 7.],\n",
       "        [6., 8.]]], dtype=float32)"
      ]
     },
     "execution_count": 61,
     "metadata": {},
     "output_type": "execute_result"
    }
   ],
   "source": [
    "a.transpose((0,2,1))"
   ]
  },
  {
   "cell_type": "code",
   "execution_count": null,
   "metadata": {},
   "outputs": [],
   "source": []
  }
 ],
 "metadata": {
  "kernelspec": {
   "display_name": "Python 3",
   "language": "python",
   "name": "python3"
  },
  "language_info": {
   "codemirror_mode": {
    "name": "ipython",
    "version": 3
   },
   "file_extension": ".py",
   "mimetype": "text/x-python",
   "name": "python",
   "nbconvert_exporter": "python",
   "pygments_lexer": "ipython3",
   "version": "3.10.16"
  }
 },
 "nbformat": 4,
 "nbformat_minor": 2
}
