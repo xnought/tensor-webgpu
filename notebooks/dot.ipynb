{
 "cells": [
  {
   "cell_type": "code",
   "execution_count": 63,
   "metadata": {},
   "outputs": [],
   "source": [
    "import torch"
   ]
  },
  {
   "cell_type": "code",
   "execution_count": 64,
   "metadata": {},
   "outputs": [],
   "source": [
    "a = [1,2,3,4,5,6]\n",
    "b = [0,1,2,3,4,5]\n",
    "\n",
    "A = torch.tensor(a).reshape(2,3)\n",
    "B = torch.tensor(b).reshape(3,2)"
   ]
  },
  {
   "cell_type": "code",
   "execution_count": 3,
   "metadata": {},
   "outputs": [
    {
     "data": {
      "text/plain": [
       "tensor([[1, 2, 3],\n",
       "        [4, 5, 6]])"
      ]
     },
     "execution_count": 3,
     "metadata": {},
     "output_type": "execute_result"
    }
   ],
   "source": [
    "A"
   ]
  },
  {
   "cell_type": "code",
   "execution_count": 4,
   "metadata": {},
   "outputs": [
    {
     "data": {
      "text/plain": [
       "tensor([[0, 1],\n",
       "        [2, 3],\n",
       "        [4, 5]])"
      ]
     },
     "execution_count": 4,
     "metadata": {},
     "output_type": "execute_result"
    }
   ],
   "source": [
    "B"
   ]
  },
  {
   "cell_type": "code",
   "execution_count": 5,
   "metadata": {},
   "outputs": [
    {
     "data": {
      "text/plain": [
       "tensor([[16, 22],\n",
       "        [34, 49]])"
      ]
     },
     "execution_count": 5,
     "metadata": {},
     "output_type": "execute_result"
    }
   ],
   "source": [
    "A@B"
   ]
  },
  {
   "cell_type": "code",
   "execution_count": 6,
   "metadata": {},
   "outputs": [
    {
     "name": "stdout",
     "output_type": "stream",
     "text": [
      "tensor([16, 22])\n",
      "tensor([34, 49])\n"
     ]
    }
   ],
   "source": [
    "print(A[0, :] @ B)\n",
    "print(A[1, :] @ B)"
   ]
  },
  {
   "cell_type": "markdown",
   "metadata": {},
   "source": [
    "Expand B so that it repeats itself"
   ]
  },
  {
   "cell_type": "code",
   "execution_count": 7,
   "metadata": {},
   "outputs": [
    {
     "data": {
      "text/plain": [
       "torch.Size([2, 3])"
      ]
     },
     "execution_count": 7,
     "metadata": {},
     "output_type": "execute_result"
    }
   ],
   "source": [
    "A.shape"
   ]
  },
  {
   "cell_type": "code",
   "execution_count": 8,
   "metadata": {},
   "outputs": [
    {
     "data": {
      "text/plain": [
       "tensor([[16, 22],\n",
       "        [34, 49]])"
      ]
     },
     "execution_count": 8,
     "metadata": {},
     "output_type": "execute_result"
    }
   ],
   "source": [
    "(A.reshape(2,3,1).broadcast_to(2,3,2)*B.reshape(1,3,2).broadcast_to(2,3,2)).sum(1)"
   ]
  },
  {
   "cell_type": "code",
   "execution_count": 9,
   "metadata": {},
   "outputs": [
    {
     "data": {
      "text/plain": [
       "array([[16, 22],\n",
       "       [34, 49]])"
      ]
     },
     "execution_count": 9,
     "metadata": {},
     "output_type": "execute_result"
    }
   ],
   "source": [
    "import numpy as np\n",
    "def custom_matmul(A, B):\n",
    "    # Expand dimensions to prepare for broadcasting\n",
    "    expanded_A = A[:, :, np.newaxis]  # Shape: (m, n, 1)\n",
    "    expanded_B = B[np.newaxis, :, :]  # Shape: (1, n, p)\n",
    "    \n",
    "    # Element-wise multiplication (broadcasted)\n",
    "    product = expanded_A * expanded_B  # Shape: (m, n, p)\n",
    "    \n",
    "    # Sum over the shared dimension (n)\n",
    "    result = product.sum(axis=1)      # Shape: (m, p)\n",
    "    \n",
    "    return result\n",
    "\n",
    "custom_matmul(np.array(a).reshape(2,3), np.array(b).reshape(3,2))"
   ]
  },
  {
   "cell_type": "code",
   "execution_count": 39,
   "metadata": {},
   "outputs": [
    {
     "name": "stdout",
     "output_type": "stream",
     "text": [
      "a [1, 2, 3, 4, 5, 6] [2, 3] [3, 1]\n",
      "b [0, 1, 2, 3, 4, 5] [3, 2] [2, 1]\n",
      "1\n",
      "6\n",
      "15\n",
      "2\n",
      "8\n",
      "18\n",
      "4\n",
      "15\n",
      "30\n",
      "8\n",
      "20\n",
      "36\n"
     ]
    }
   ],
   "source": [
    "def compute_strides(shape):\n",
    "\tstrides = [1 for _ in shape]\n",
    "\tfor i in range(len(shape)-1, 0, -1):\n",
    "\t\tstrides[i-1] = shape[i]*strides[i]\n",
    "\treturn strides\n",
    "\n",
    "def expand_start(shape: list[int], strides: list[int], expand_to: int):\n",
    "\treturn [expand_to, *shape], [0, *strides]\n",
    "def expand_end(shape: list[int], strides: list[int], expand_to: int):\n",
    "\treturn [*shape, expand_to], [*strides, 0]\n",
    "\n",
    "\n",
    "def manual_matmul(a, a_shape, b, b_shape):\n",
    "\ta_strides = compute_strides(a_shape)\n",
    "\tb_strides = compute_strides(b_shape)\n",
    "\tprint(\"a\", a, a_shape, a_strides)\n",
    "\tprint(\"b\", b, b_shape, b_strides)\n",
    "\n",
    "\tae_shape, ae_strides = expand_end(a_shape, a_strides, a_shape[0])\n",
    "\tbe_shape, be_strides = expand_start(b_shape, b_strides, b_shape[1])\n",
    "\t\n",
    "\t# elementwise add\n",
    "\tfor i in range(ae_shape[0]):\n",
    "\t\tfor k in range(ae_shape[2]):\n",
    "\t\t\tfor j in range(ae_shape[1]):\n",
    "\t\t\t\ta_ijk = a[i*ae_strides[0] + j*ae_strides[1] + k*ae_strides[2]]\n",
    "\t\t\t\tb_ijk = a[i*be_strides[0] + j*be_strides[1] + k*be_strides[2]]\n",
    "\t\t\t\tprint(a_ijk*b_ijk)\n",
    "\n",
    "\t\t\t\n",
    "\t\t\n",
    "\n",
    "\t\n",
    "\n",
    "manual_matmul(a,[2,3], b, [3,2])"
   ]
  },
  {
   "cell_type": "code",
   "execution_count": 78,
   "metadata": {},
   "outputs": [
    {
     "data": {
      "text/plain": [
       "tensor([[[ 0,  1],\n",
       "         [ 4,  6],\n",
       "         [12, 15]],\n",
       "\n",
       "        [[ 0,  4],\n",
       "         [10, 15],\n",
       "         [24, 30]]])"
      ]
     },
     "execution_count": 78,
     "metadata": {},
     "output_type": "execute_result"
    }
   ],
   "source": [
    "(A.reshape(2,3,1).broadcast_to((2, 3, 2))*B.reshape(1,3,2).broadcast_to((2,3,2)))"
   ]
  },
  {
   "cell_type": "code",
   "execution_count": 82,
   "metadata": {},
   "outputs": [
    {
     "name": "stdout",
     "output_type": "stream",
     "text": [
      "1 2 3 |\n",
      "4 5 6 |\n",
      "|\n"
     ]
    }
   ],
   "source": [
    "ae_shape = [2,3]\n",
    "ae_strides = [3, 1]\n",
    "for i in range(ae_shape[0]):\n",
    "\tfor j in range(ae_shape[1]):\n",
    "\t\tprint(a[i*ae_strides[0] + j*ae_strides[1]], end=\" \")\n",
    "\tprint(\"|\")\n",
    "print(\"|\")"
   ]
  },
  {
   "cell_type": "code",
   "execution_count": 86,
   "metadata": {},
   "outputs": [
    {
     "data": {
      "text/plain": [
       "tensor([[[1, 1],\n",
       "         [2, 2],\n",
       "         [3, 3]],\n",
       "\n",
       "        [[4, 4],\n",
       "         [5, 5],\n",
       "         [6, 6]]])"
      ]
     },
     "execution_count": 86,
     "metadata": {},
     "output_type": "execute_result"
    }
   ],
   "source": [
    "A.reshape(2,3,1).broadcast_to((2,3,2))"
   ]
  },
  {
   "cell_type": "code",
   "execution_count": 84,
   "metadata": {},
   "outputs": [
    {
     "name": "stdout",
     "output_type": "stream",
     "text": [
      "1 1 |k\n",
      "2 2 |k\n",
      "3 3 |k\n",
      "|j\n",
      "4 4 |k\n",
      "5 5 |k\n",
      "6 6 |k\n",
      "|j\n",
      "|i\n"
     ]
    }
   ],
   "source": [
    "ae_shape = [2,3,2]\n",
    "ae_strides = [3, 1, 0]\n",
    "for i in range(ae_shape[0]):\n",
    "\tfor j in range(ae_shape[1]):\n",
    "\t\tfor k in range(ae_shape[2]):\n",
    "\t\t\tprint(a[i*ae_strides[0] + j*ae_strides[1] + k*ae_strides[2]], end=\" \")\n",
    "\t\tprint(\"|k\")\n",
    "\tprint(\"|j\")\n",
    "print(\"|i\")"
   ]
  },
  {
   "cell_type": "code",
   "execution_count": 87,
   "metadata": {},
   "outputs": [
    {
     "data": {
      "text/plain": [
       "tensor([[[0, 1],\n",
       "         [2, 3],\n",
       "         [4, 5]],\n",
       "\n",
       "        [[0, 1],\n",
       "         [2, 3],\n",
       "         [4, 5]]])"
      ]
     },
     "execution_count": 87,
     "metadata": {},
     "output_type": "execute_result"
    }
   ],
   "source": [
    "B.reshape(1,3, 2).broadcast_to((2,3,2))"
   ]
  },
  {
   "cell_type": "code",
   "execution_count": 89,
   "metadata": {},
   "outputs": [
    {
     "name": "stdout",
     "output_type": "stream",
     "text": [
      "0 1 |k\n",
      "2 3 |k\n",
      "4 5 |k\n",
      "|j\n",
      "0 1 |k\n",
      "2 3 |k\n",
      "4 5 |k\n",
      "|j\n",
      "|i\n"
     ]
    }
   ],
   "source": [
    "be_shape = [2,3,2]\n",
    "be_strides = [0, 2, 1]\n",
    "for i in range(be_shape[0]):\n",
    "\tfor j in range(be_shape[1]):\n",
    "\t\tfor k in range(be_shape[2]):\n",
    "\t\t\tprint(b[i*be_strides[0] + j*be_strides[1] + k*be_strides[2]], end=\" \")\n",
    "\t\tprint(\"|k\")\n",
    "\tprint(\"|j\")\n",
    "print(\"|i\")"
   ]
  },
  {
   "cell_type": "code",
   "execution_count": 95,
   "metadata": {},
   "outputs": [
    {
     "data": {
      "text/plain": [
       "tensor([[[ 0,  1],\n",
       "         [ 4,  6],\n",
       "         [12, 15]],\n",
       "\n",
       "        [[ 0,  4],\n",
       "         [10, 15],\n",
       "         [24, 30]]])"
      ]
     },
     "execution_count": 95,
     "metadata": {},
     "output_type": "execute_result"
    }
   ],
   "source": [
    "(A.reshape(2,3,1).broadcast_to((2, 3, 2))*B.reshape(1,3,2).broadcast_to((2,3,2)))"
   ]
  },
  {
   "cell_type": "code",
   "execution_count": 90,
   "metadata": {},
   "outputs": [
    {
     "name": "stdout",
     "output_type": "stream",
     "text": [
      "0 1 |k\n",
      "4 6 |k\n",
      "12 15 |k\n",
      "|j\n",
      "0 4 |k\n",
      "10 15 |k\n",
      "24 30 |k\n",
      "|j\n",
      "|i\n"
     ]
    }
   ],
   "source": [
    "be_shape = [2,3,2]\n",
    "be_strides = [0, 2, 1]\n",
    "for i in range(be_shape[0]):\n",
    "\tfor j in range(be_shape[1]):\n",
    "\t\tfor k in range(be_shape[2]):\n",
    "\t\t\tprint(a[i*ae_strides[0] + j*ae_strides[1] + k*ae_strides[2]]*b[i*be_strides[0] + j*be_strides[1] + k*be_strides[2]], end=\" \")\n",
    "\t\tprint(\"|k\")\n",
    "\tprint(\"|j\")\n",
    "print(\"|i\")"
   ]
  },
  {
   "cell_type": "code",
   "execution_count": 93,
   "metadata": {},
   "outputs": [
    {
     "name": "stdout",
     "output_type": "stream",
     "text": [
      "16\n",
      "22\n",
      "|k\n",
      "34\n",
      "49\n",
      "|k\n",
      "|i\n"
     ]
    }
   ],
   "source": [
    "be_shape = [2,3,2]\n",
    "be_strides = [0, 2, 1]\n",
    "for i in range(be_shape[0]):\n",
    "\tfor k in range(be_shape[2]):\n",
    "\t\tsummed = 0\n",
    "\t\tfor j in range(be_shape[1]):\n",
    "\t\t\tsummed += a[i*ae_strides[0] + j*ae_strides[1] + k*ae_strides[2]]*b[i*be_strides[0] + j*be_strides[1] + k*be_strides[2]]\n",
    "\t\tprint(summed)\n",
    "\tprint(\"|k\")\n",
    "print(\"|i\")"
   ]
  },
  {
   "cell_type": "code",
   "execution_count": 97,
   "metadata": {},
   "outputs": [
    {
     "data": {
      "text/plain": [
       "array([[12, 17, 22],\n",
       "       [15, 22, 29],\n",
       "       [18, 27, 36]])"
      ]
     },
     "execution_count": 97,
     "metadata": {},
     "output_type": "execute_result"
    }
   ],
   "source": [
    "np.array(a).reshape((2,3)).T@np.array(b).reshape((2,3))"
   ]
  },
  {
   "cell_type": "code",
   "execution_count": null,
   "metadata": {},
   "outputs": [],
   "source": []
  }
 ],
 "metadata": {
  "kernelspec": {
   "display_name": "Python 3",
   "language": "python",
   "name": "python3"
  },
  "language_info": {
   "codemirror_mode": {
    "name": "ipython",
    "version": 3
   },
   "file_extension": ".py",
   "mimetype": "text/x-python",
   "name": "python",
   "nbconvert_exporter": "python",
   "pygments_lexer": "ipython3",
   "version": "3.10.16"
  }
 },
 "nbformat": 4,
 "nbformat_minor": 2
}
